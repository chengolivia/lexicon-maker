{
 "cells": [
  {
   "cell_type": "code",
   "execution_count": 1,
   "id": "4af99f88",
   "metadata": {},
   "outputs": [],
   "source": [
    "from lexicon import Stemmer"
   ]
  },
  {
   "cell_type": "code",
   "execution_count": 2,
   "id": "ca631be3",
   "metadata": {},
   "outputs": [
    {
     "name": "stderr",
     "output_type": "stream",
     "text": [
      "/Users/oliviacheng/miniconda3/envs/lex/lib/python3.10/site-packages/spacy/util.py:910: UserWarning: [W095] Model 'de_core_news_sm' (3.8.0) was trained with spaCy v3.8.0 and may not be 100% compatible with the current version (3.7.5). If you see errors or degraded performance, download a newer compatible model or retrain your custom model with the current spaCy version. For more details and available updates, run: python -m spacy validate\n",
      "  warnings.warn(warn_msg)\n"
     ]
    }
   ],
   "source": [
    "s = Stemmer(\"german\")"
   ]
  },
  {
   "cell_type": "code",
   "execution_count": 3,
   "id": "107e0849",
   "metadata": {},
   "outputs": [],
   "source": [
    "kritik_text = \"Die Mathematik ist von den frühesten Zeiten her, wohin die Geschichte der menschlichen Vernunft reicht, in dem bewundernswürdigen Volke der Griechen den sicheren Weg einer Wissenschaft gegangen. Allein man darf nicht denken, daß es ihr so leicht geworden, wie der Logik, wo die Vernunft es nur mit sich selbst zu tun hat, jenen königlichen Weg zu treffen, oder vielmehr sich selbst zu bahnen; vielmehr glaube ich, daß es lange mit ihr (vornehmlich noch unter den Ägyptern) beim Herumtappen geblieben ist, und diese Umänderung einer Revolution zuzuschreiben sei, die der glückliche Einfall eines einzigen Mannes in einem Versuche zustande brachte, von welchem an die Bahn, die man nehmen mußte, nicht mehr zu verfehlen war, und der sichere Gang einer Wissenschaft für alle Zeiten und in unendliche Weiten eingeschlagen und vorgezeichnet war.\""
   ]
  },
  {
   "cell_type": "code",
   "execution_count": 4,
   "id": "84988ebb",
   "metadata": {},
   "outputs": [
    {
     "name": "stdout",
     "output_type": "stream",
     "text": [
      "22\n"
     ]
    }
   ],
   "source": [
    "print(len(s.count_words_from_text(kritik_text, thresh=2)))"
   ]
  },
  {
   "cell_type": "code",
   "execution_count": 5,
   "id": "77ebe931",
   "metadata": {},
   "outputs": [
    {
     "name": "stdout",
     "output_type": "stream",
     "text": [
      "23\n"
     ]
    }
   ],
   "source": [
    "print(len(s.count_words_from_text(kritik_text, thresh=2, use_stems=False)))"
   ]
  },
  {
   "cell_type": "markdown",
   "id": "4663141f",
   "metadata": {},
   "source": [
    "You may have to press 'Enter' to confirm your input"
   ]
  },
  {
   "cell_type": "code",
   "execution_count": 6,
   "id": "197c16f1",
   "metadata": {},
   "outputs": [],
   "source": [
    "sl = Stemmer(\"latin\")"
   ]
  },
  {
   "cell_type": "code",
   "execution_count": 7,
   "id": "c0f89780",
   "metadata": {},
   "outputs": [],
   "source": [
    "aeneid_text = \"\"\"Arma virumque canō, Trōiae quī prīmus ab ōrīs\n",
    "Ītaliam, fātō profugus, Lāvīniaque vēnit\n",
    "lītora, multum ille et terrīs iactātus et altō\n",
    "vī superum saevae memorem Iūnōnis ob īram;\n",
    "multa quoque et bellō passus, dum conderet urbem, \n",
    "inferretque deōs Latiō, genus unde Latīnum,\n",
    "Albānīque patrēs, atque altae moenia Rōmae.\n",
    "\n",
    "Mūsa, mihī causās memorā, quō nūmine laesō,\n",
    "quidve dolēns, rēgīna deum tot volvere cāsūs\n",
    "īnsīgnem pietāte virum, tot adīre labōrēs    \n",
    "impulerit. Tantaene animīs caelestibus īrae?\n",
    "\n",
    "Urbs antīqua fuit, Tyriī tenuēre colōnī,\n",
    "Karthāgō, Ītaliam contrā Tiberīnaque longē\n",
    "ōstia, dīves opum studiīsque asperrima bellī,\n",
    "quam Iūnō fertur terrīs magis omnibus ūnam   \n",
    "posthabitā coluisse Samō; hīc illius arma,\n",
    "hīc currus fuit; hōc rēgnum dea gentibus esse,\n",
    "sī quā Fāta sinant, iam tum tenditque fovetque.\"\"\""
   ]
  },
  {
   "cell_type": "code",
   "execution_count": 8,
   "id": "96511ff6",
   "metadata": {},
   "outputs": [
    {
     "name": "stdout",
     "output_type": "stream",
     "text": [
      "{'et': 3, 'ille': 2, 'sum': 3, 'terrīs': 2, 'tot': 2, 'virus': 2, 'ā': 2, 'ō': 2}\n",
      "{'et': 3, 'fuit': 2, 'terrīs': 2, 'tot': 2}\n"
     ]
    }
   ],
   "source": [
    "print(sl.count_words_from_text(aeneid_text, thresh=2))\n",
    "print(sl.count_words_from_text(aeneid_text, thresh=2, use_stems=False))"
   ]
  }
 ],
 "metadata": {
  "kernelspec": {
   "display_name": "lex",
   "language": "python",
   "name": "python3"
  },
  "language_info": {
   "codemirror_mode": {
    "name": "ipython",
    "version": 3
   },
   "file_extension": ".py",
   "mimetype": "text/x-python",
   "name": "python",
   "nbconvert_exporter": "python",
   "pygments_lexer": "ipython3",
   "version": "3.10.18"
  }
 },
 "nbformat": 4,
 "nbformat_minor": 5
}
