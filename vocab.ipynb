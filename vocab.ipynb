{
  "nbformat": 4,
  "nbformat_minor": 0,
  "metadata": {
    "colab": {
      "provenance": [],
      "collapsed_sections": [
        "_OyA1mrh_C2c"
      ],
      "include_colab_link": true
    },
    "kernelspec": {
      "name": "python3",
      "display_name": "Python 3"
    },
    "language_info": {
      "name": "python"
    }
  },
  "cells": [
    {
      "cell_type": "markdown",
      "metadata": {
        "id": "view-in-github",
        "colab_type": "text"
      },
      "source": [
        "<a href=\"https://colab.research.google.com/github/chengolivia/lexicon-maker/blob/main/vocab.ipynb\" target=\"_parent\"><img src=\"https://colab.research.google.com/assets/colab-badge.svg\" alt=\"Open In Colab\"/></a>"
      ]
    },
    {
      "cell_type": "markdown",
      "source": [
        "# Vocab List Generator"
      ],
      "metadata": {
        "id": "vNsx7SWI_AyL"
      }
    },
    {
      "cell_type": "markdown",
      "source": [
        "## Code\n",
        "Hide and press play"
      ],
      "metadata": {
        "id": "_OyA1mrh_C2c"
      }
    },
    {
      "cell_type": "markdown",
      "source": [
        "If you get an error with the code below, try removing the \"#\" from the cell and running it.\n",
        "\n",
        "Citation: Johnson, Kyle P., Patrick J. Burns, John Stewart, Todd Cook, Clément Besnier, and William J. B. Mattingly. \"The Classical Language Toolkit: An NLP Framework for Pre-Modern Languages.\" In Proceedings of the 59th Annual Meeting of the Association for Computational Linguistics and the 11th International Joint Conference on Natural Language Processing: System Demonstrations, pp. 20-29. 2021. 10.18653/v1/2021.acl-demo.3"
      ],
      "metadata": {
        "id": "UAhNHHDc6x1o"
      }
    },
    {
      "cell_type": "code",
      "source": [
        "!pip install cltk\n",
        "!pip install spacy\n",
        "! python -m spacy download de"
      ],
      "metadata": {
        "collapsed": true,
        "id": "9JYVXXia6rSB",
        "colab": {
          "base_uri": "https://localhost:8080/"
        },
        "outputId": "4ea1b967-1ce4-4c53-f0ba-22f833b37468"
      },
      "execution_count": null,
      "outputs": [
        {
          "output_type": "stream",
          "name": "stdout",
          "text": [
            "Collecting cltk\n",
            "  Downloading cltk-1.3.0-py3-none-any.whl (695 kB)\n",
            "\u001b[2K     \u001b[90m━━━━━━━━━━━━━━━━━━━━━━━━━━━━━━━━━━━━━━━━\u001b[0m \u001b[32m695.7/695.7 kB\u001b[0m \u001b[31m8.2 MB/s\u001b[0m eta \u001b[36m0:00:00\u001b[0m\n",
            "\u001b[?25hRequirement already satisfied: PyYAML<7.0.0,>=6.0.0 in /usr/local/lib/python3.10/dist-packages (from cltk) (6.0.1)\n",
            "Collecting boltons<22.0.0,>=21.0.0 (from cltk)\n",
            "  Downloading boltons-21.0.0-py2.py3-none-any.whl (193 kB)\n",
            "\u001b[2K     \u001b[90m━━━━━━━━━━━━━━━━━━━━━━━━━━━━━━━━━━━━━━━━\u001b[0m \u001b[32m193.7/193.7 kB\u001b[0m \u001b[31m12.2 MB/s\u001b[0m eta \u001b[36m0:00:00\u001b[0m\n",
            "\u001b[?25hRequirement already satisfied: gensim<5.0.0,>=4.3.2 in /usr/local/lib/python3.10/dist-packages (from cltk) (4.3.2)\n",
            "Collecting gitpython<4.0,>=3.0 (from cltk)\n",
            "  Downloading GitPython-3.1.43-py3-none-any.whl (207 kB)\n",
            "\u001b[2K     \u001b[90m━━━━━━━━━━━━━━━━━━━━━━━━━━━━━━━━━━━━━━━━\u001b[0m \u001b[32m207.3/207.3 kB\u001b[0m \u001b[31m6.1 MB/s\u001b[0m eta \u001b[36m0:00:00\u001b[0m\n",
            "\u001b[?25hCollecting greek-accentuation<2.0.0,>=1.2.0 (from cltk)\n",
            "  Downloading greek_accentuation-1.2.0-py2.py3-none-any.whl (6.8 kB)\n",
            "Requirement already satisfied: nltk<4.0,>=3.7 in /usr/local/lib/python3.10/dist-packages (from cltk) (3.8.1)\n",
            "Collecting rapidfuzz<4.0.0,>=3.4.0 (from cltk)\n",
            "  Downloading rapidfuzz-3.9.3-cp310-cp310-manylinux_2_17_x86_64.manylinux2014_x86_64.whl (3.4 MB)\n",
            "\u001b[2K     \u001b[90m━━━━━━━━━━━━━━━━━━━━━━━━━━━━━━━━━━━━━━━━\u001b[0m \u001b[32m3.4/3.4 MB\u001b[0m \u001b[31m23.6 MB/s\u001b[0m eta \u001b[36m0:00:00\u001b[0m\n",
            "\u001b[?25hRequirement already satisfied: requests<3.0.0,>=2.22.0 in /usr/local/lib/python3.10/dist-packages (from cltk) (2.31.0)\n",
            "Requirement already satisfied: scikit-learn<2.0.0,>=1.0.2 in /usr/local/lib/python3.10/dist-packages (from cltk) (1.2.2)\n",
            "Requirement already satisfied: scipy<1.13.0 in /usr/local/lib/python3.10/dist-packages (from cltk) (1.11.4)\n",
            "Collecting spacy==3.7.4 (from cltk)\n",
            "  Downloading spacy-3.7.4-cp310-cp310-manylinux_2_17_x86_64.manylinux2014_x86_64.whl (6.6 MB)\n",
            "\u001b[2K     \u001b[90m━━━━━━━━━━━━━━━━━━━━━━━━━━━━━━━━━━━━━━━━\u001b[0m \u001b[32m6.6/6.6 MB\u001b[0m \u001b[31m27.0 MB/s\u001b[0m eta \u001b[36m0:00:00\u001b[0m\n",
            "\u001b[?25hCollecting stanza<2.0.0,>=1.6.0 (from cltk)\n",
            "  Downloading stanza-1.8.2-py3-none-any.whl (990 kB)\n",
            "\u001b[2K     \u001b[90m━━━━━━━━━━━━━━━━━━━━━━━━━━━━━━━━━━━━━━━━\u001b[0m \u001b[32m990.1/990.1 kB\u001b[0m \u001b[31m19.3 MB/s\u001b[0m eta \u001b[36m0:00:00\u001b[0m\n",
            "\u001b[?25hCollecting stringcase<2.0,>=1.2 (from cltk)\n",
            "  Downloading stringcase-1.2.0.tar.gz (3.0 kB)\n",
            "  Preparing metadata (setup.py) ... \u001b[?25l\u001b[?25hdone\n",
            "Requirement already satisfied: torch!=2.0.1,!=2.1.0,>=2.0.0 in /usr/local/lib/python3.10/dist-packages (from cltk) (2.3.0+cu121)\n",
            "Requirement already satisfied: tqdm<5.0.0,>=4.41.1 in /usr/local/lib/python3.10/dist-packages (from cltk) (4.66.4)\n",
            "Requirement already satisfied: spacy-legacy<3.1.0,>=3.0.11 in /usr/local/lib/python3.10/dist-packages (from spacy==3.7.4->cltk) (3.0.12)\n",
            "Requirement already satisfied: spacy-loggers<2.0.0,>=1.0.0 in /usr/local/lib/python3.10/dist-packages (from spacy==3.7.4->cltk) (1.0.5)\n",
            "Requirement already satisfied: murmurhash<1.1.0,>=0.28.0 in /usr/local/lib/python3.10/dist-packages (from spacy==3.7.4->cltk) (1.0.10)\n",
            "Requirement already satisfied: cymem<2.1.0,>=2.0.2 in /usr/local/lib/python3.10/dist-packages (from spacy==3.7.4->cltk) (2.0.8)\n",
            "Requirement already satisfied: preshed<3.1.0,>=3.0.2 in /usr/local/lib/python3.10/dist-packages (from spacy==3.7.4->cltk) (3.0.9)\n",
            "Requirement already satisfied: thinc<8.3.0,>=8.2.2 in /usr/local/lib/python3.10/dist-packages (from spacy==3.7.4->cltk) (8.2.4)\n",
            "Requirement already satisfied: wasabi<1.2.0,>=0.9.1 in /usr/local/lib/python3.10/dist-packages (from spacy==3.7.4->cltk) (1.1.3)\n",
            "Requirement already satisfied: srsly<3.0.0,>=2.4.3 in /usr/local/lib/python3.10/dist-packages (from spacy==3.7.4->cltk) (2.4.8)\n",
            "Requirement already satisfied: catalogue<2.1.0,>=2.0.6 in /usr/local/lib/python3.10/dist-packages (from spacy==3.7.4->cltk) (2.0.10)\n",
            "Collecting weasel<0.4.0,>=0.1.0 (from spacy==3.7.4->cltk)\n",
            "  Downloading weasel-0.3.4-py3-none-any.whl (50 kB)\n",
            "\u001b[2K     \u001b[90m━━━━━━━━━━━━━━━━━━━━━━━━━━━━━━━━━━━━━━━━\u001b[0m \u001b[32m50.1/50.1 kB\u001b[0m \u001b[31m4.3 MB/s\u001b[0m eta \u001b[36m0:00:00\u001b[0m\n",
            "\u001b[?25hCollecting typer<0.10.0,>=0.3.0 (from spacy==3.7.4->cltk)\n",
            "  Downloading typer-0.9.4-py3-none-any.whl (45 kB)\n",
            "\u001b[2K     \u001b[90m━━━━━━━━━━━━━━━━━━━━━━━━━━━━━━━━━━━━━━━━\u001b[0m \u001b[32m46.0/46.0 kB\u001b[0m \u001b[31m3.5 MB/s\u001b[0m eta \u001b[36m0:00:00\u001b[0m\n",
            "\u001b[?25hCollecting smart-open<7.0.0,>=5.2.1 (from spacy==3.7.4->cltk)\n",
            "  Downloading smart_open-6.4.0-py3-none-any.whl (57 kB)\n",
            "\u001b[2K     \u001b[90m━━━━━━━━━━━━━━━━━━━━━━━━━━━━━━━━━━━━━━━━\u001b[0m \u001b[32m57.0/57.0 kB\u001b[0m \u001b[31m4.9 MB/s\u001b[0m eta \u001b[36m0:00:00\u001b[0m\n",
            "\u001b[?25hRequirement already satisfied: pydantic!=1.8,!=1.8.1,<3.0.0,>=1.7.4 in /usr/local/lib/python3.10/dist-packages (from spacy==3.7.4->cltk) (2.7.3)\n",
            "Requirement already satisfied: jinja2 in /usr/local/lib/python3.10/dist-packages (from spacy==3.7.4->cltk) (3.1.4)\n",
            "Requirement already satisfied: setuptools in /usr/local/lib/python3.10/dist-packages (from spacy==3.7.4->cltk) (67.7.2)\n",
            "Requirement already satisfied: packaging>=20.0 in /usr/local/lib/python3.10/dist-packages (from spacy==3.7.4->cltk) (24.1)\n",
            "Requirement already satisfied: langcodes<4.0.0,>=3.2.0 in /usr/local/lib/python3.10/dist-packages (from spacy==3.7.4->cltk) (3.4.0)\n",
            "Requirement already satisfied: numpy>=1.19.0 in /usr/local/lib/python3.10/dist-packages (from spacy==3.7.4->cltk) (1.25.2)\n",
            "Collecting gitdb<5,>=4.0.1 (from gitpython<4.0,>=3.0->cltk)\n",
            "  Downloading gitdb-4.0.11-py3-none-any.whl (62 kB)\n",
            "\u001b[2K     \u001b[90m━━━━━━━━━━━━━━━━━━━━━━━━━━━━━━━━━━━━━━━━\u001b[0m \u001b[32m62.7/62.7 kB\u001b[0m \u001b[31m5.8 MB/s\u001b[0m eta \u001b[36m0:00:00\u001b[0m\n",
            "\u001b[?25hRequirement already satisfied: click in /usr/local/lib/python3.10/dist-packages (from nltk<4.0,>=3.7->cltk) (8.1.7)\n",
            "Requirement already satisfied: joblib in /usr/local/lib/python3.10/dist-packages (from nltk<4.0,>=3.7->cltk) (1.4.2)\n",
            "Requirement already satisfied: regex>=2021.8.3 in /usr/local/lib/python3.10/dist-packages (from nltk<4.0,>=3.7->cltk) (2024.5.15)\n",
            "Requirement already satisfied: charset-normalizer<4,>=2 in /usr/local/lib/python3.10/dist-packages (from requests<3.0.0,>=2.22.0->cltk) (3.3.2)\n",
            "Requirement already satisfied: idna<4,>=2.5 in /usr/local/lib/python3.10/dist-packages (from requests<3.0.0,>=2.22.0->cltk) (3.7)\n",
            "Requirement already satisfied: urllib3<3,>=1.21.1 in /usr/local/lib/python3.10/dist-packages (from requests<3.0.0,>=2.22.0->cltk) (2.0.7)\n",
            "Requirement already satisfied: certifi>=2017.4.17 in /usr/local/lib/python3.10/dist-packages (from requests<3.0.0,>=2.22.0->cltk) (2024.6.2)\n",
            "Requirement already satisfied: threadpoolctl>=2.0.0 in /usr/local/lib/python3.10/dist-packages (from scikit-learn<2.0.0,>=1.0.2->cltk) (3.5.0)\n",
            "Collecting emoji (from stanza<2.0.0,>=1.6.0->cltk)\n",
            "  Downloading emoji-2.12.1-py3-none-any.whl (431 kB)\n",
            "\u001b[2K     \u001b[90m━━━━━━━━━━━━━━━━━━━━━━━━━━━━━━━━━━━━━━━━\u001b[0m \u001b[32m431.4/431.4 kB\u001b[0m \u001b[31m33.5 MB/s\u001b[0m eta \u001b[36m0:00:00\u001b[0m\n",
            "\u001b[?25hRequirement already satisfied: protobuf>=3.15.0 in /usr/local/lib/python3.10/dist-packages (from stanza<2.0.0,>=1.6.0->cltk) (3.20.3)\n",
            "Requirement already satisfied: networkx in /usr/local/lib/python3.10/dist-packages (from stanza<2.0.0,>=1.6.0->cltk) (3.3)\n",
            "Requirement already satisfied: toml in /usr/local/lib/python3.10/dist-packages (from stanza<2.0.0,>=1.6.0->cltk) (0.10.2)\n",
            "Requirement already satisfied: filelock in /usr/local/lib/python3.10/dist-packages (from torch!=2.0.1,!=2.1.0,>=2.0.0->cltk) (3.14.0)\n",
            "Requirement already satisfied: typing-extensions>=4.8.0 in /usr/local/lib/python3.10/dist-packages (from torch!=2.0.1,!=2.1.0,>=2.0.0->cltk) (4.12.2)\n",
            "Requirement already satisfied: sympy in /usr/local/lib/python3.10/dist-packages (from torch!=2.0.1,!=2.1.0,>=2.0.0->cltk) (1.12.1)\n",
            "Requirement already satisfied: fsspec in /usr/local/lib/python3.10/dist-packages (from torch!=2.0.1,!=2.1.0,>=2.0.0->cltk) (2023.6.0)\n",
            "Collecting nvidia-cuda-nvrtc-cu12==12.1.105 (from torch!=2.0.1,!=2.1.0,>=2.0.0->cltk)\n",
            "  Using cached nvidia_cuda_nvrtc_cu12-12.1.105-py3-none-manylinux1_x86_64.whl (23.7 MB)\n",
            "Collecting nvidia-cuda-runtime-cu12==12.1.105 (from torch!=2.0.1,!=2.1.0,>=2.0.0->cltk)\n",
            "  Using cached nvidia_cuda_runtime_cu12-12.1.105-py3-none-manylinux1_x86_64.whl (823 kB)\n",
            "Collecting nvidia-cuda-cupti-cu12==12.1.105 (from torch!=2.0.1,!=2.1.0,>=2.0.0->cltk)\n",
            "  Using cached nvidia_cuda_cupti_cu12-12.1.105-py3-none-manylinux1_x86_64.whl (14.1 MB)\n",
            "Collecting nvidia-cudnn-cu12==8.9.2.26 (from torch!=2.0.1,!=2.1.0,>=2.0.0->cltk)\n",
            "  Using cached nvidia_cudnn_cu12-8.9.2.26-py3-none-manylinux1_x86_64.whl (731.7 MB)\n",
            "Collecting nvidia-cublas-cu12==12.1.3.1 (from torch!=2.0.1,!=2.1.0,>=2.0.0->cltk)\n",
            "  Using cached nvidia_cublas_cu12-12.1.3.1-py3-none-manylinux1_x86_64.whl (410.6 MB)\n",
            "Collecting nvidia-cufft-cu12==11.0.2.54 (from torch!=2.0.1,!=2.1.0,>=2.0.0->cltk)\n",
            "  Using cached nvidia_cufft_cu12-11.0.2.54-py3-none-manylinux1_x86_64.whl (121.6 MB)\n",
            "Collecting nvidia-curand-cu12==10.3.2.106 (from torch!=2.0.1,!=2.1.0,>=2.0.0->cltk)\n",
            "  Using cached nvidia_curand_cu12-10.3.2.106-py3-none-manylinux1_x86_64.whl (56.5 MB)\n",
            "Collecting nvidia-cusolver-cu12==11.4.5.107 (from torch!=2.0.1,!=2.1.0,>=2.0.0->cltk)\n",
            "  Using cached nvidia_cusolver_cu12-11.4.5.107-py3-none-manylinux1_x86_64.whl (124.2 MB)\n",
            "Collecting nvidia-cusparse-cu12==12.1.0.106 (from torch!=2.0.1,!=2.1.0,>=2.0.0->cltk)\n",
            "  Using cached nvidia_cusparse_cu12-12.1.0.106-py3-none-manylinux1_x86_64.whl (196.0 MB)\n",
            "Collecting nvidia-nccl-cu12==2.20.5 (from torch!=2.0.1,!=2.1.0,>=2.0.0->cltk)\n",
            "  Using cached nvidia_nccl_cu12-2.20.5-py3-none-manylinux2014_x86_64.whl (176.2 MB)\n",
            "Collecting nvidia-nvtx-cu12==12.1.105 (from torch!=2.0.1,!=2.1.0,>=2.0.0->cltk)\n",
            "  Using cached nvidia_nvtx_cu12-12.1.105-py3-none-manylinux1_x86_64.whl (99 kB)\n",
            "Requirement already satisfied: triton==2.3.0 in /usr/local/lib/python3.10/dist-packages (from torch!=2.0.1,!=2.1.0,>=2.0.0->cltk) (2.3.0)\n",
            "Collecting nvidia-nvjitlink-cu12 (from nvidia-cusolver-cu12==11.4.5.107->torch!=2.0.1,!=2.1.0,>=2.0.0->cltk)\n",
            "  Downloading nvidia_nvjitlink_cu12-12.5.40-py3-none-manylinux2014_x86_64.whl (21.3 MB)\n",
            "\u001b[2K     \u001b[90m━━━━━━━━━━━━━━━━━━━━━━━━━━━━━━━━━━━━━━━━\u001b[0m \u001b[32m21.3/21.3 MB\u001b[0m \u001b[31m40.1 MB/s\u001b[0m eta \u001b[36m0:00:00\u001b[0m\n",
            "\u001b[?25hCollecting smmap<6,>=3.0.1 (from gitdb<5,>=4.0.1->gitpython<4.0,>=3.0->cltk)\n",
            "  Downloading smmap-5.0.1-py3-none-any.whl (24 kB)\n",
            "Requirement already satisfied: language-data>=1.2 in /usr/local/lib/python3.10/dist-packages (from langcodes<4.0.0,>=3.2.0->spacy==3.7.4->cltk) (1.2.0)\n",
            "Requirement already satisfied: annotated-types>=0.4.0 in /usr/local/lib/python3.10/dist-packages (from pydantic!=1.8,!=1.8.1,<3.0.0,>=1.7.4->spacy==3.7.4->cltk) (0.7.0)\n",
            "Requirement already satisfied: pydantic-core==2.18.4 in /usr/local/lib/python3.10/dist-packages (from pydantic!=1.8,!=1.8.1,<3.0.0,>=1.7.4->spacy==3.7.4->cltk) (2.18.4)\n",
            "Requirement already satisfied: blis<0.8.0,>=0.7.8 in /usr/local/lib/python3.10/dist-packages (from thinc<8.3.0,>=8.2.2->spacy==3.7.4->cltk) (0.7.11)\n",
            "Requirement already satisfied: confection<1.0.0,>=0.0.1 in /usr/local/lib/python3.10/dist-packages (from thinc<8.3.0,>=8.2.2->spacy==3.7.4->cltk) (0.1.5)\n",
            "Collecting cloudpathlib<0.17.0,>=0.7.0 (from weasel<0.4.0,>=0.1.0->spacy==3.7.4->cltk)\n",
            "  Downloading cloudpathlib-0.16.0-py3-none-any.whl (45 kB)\n",
            "\u001b[2K     \u001b[90m━━━━━━━━━━━━━━━━━━━━━━━━━━━━━━━━━━━━━━━━\u001b[0m \u001b[32m45.0/45.0 kB\u001b[0m \u001b[31m3.6 MB/s\u001b[0m eta \u001b[36m0:00:00\u001b[0m\n",
            "\u001b[?25hRequirement already satisfied: MarkupSafe>=2.0 in /usr/local/lib/python3.10/dist-packages (from jinja2->spacy==3.7.4->cltk) (2.1.5)\n",
            "Requirement already satisfied: mpmath<1.4.0,>=1.1.0 in /usr/local/lib/python3.10/dist-packages (from sympy->torch!=2.0.1,!=2.1.0,>=2.0.0->cltk) (1.3.0)\n",
            "Requirement already satisfied: marisa-trie>=0.7.7 in /usr/local/lib/python3.10/dist-packages (from language-data>=1.2->langcodes<4.0.0,>=3.2.0->spacy==3.7.4->cltk) (1.2.0)\n",
            "Building wheels for collected packages: stringcase\n",
            "  Building wheel for stringcase (setup.py) ... \u001b[?25l\u001b[?25hdone\n",
            "  Created wheel for stringcase: filename=stringcase-1.2.0-py3-none-any.whl size=3569 sha256=fb2798fb18656d5e6dc809d93ea9a199c5b4ff92cc1bcab662a4df2a5ea671e9\n",
            "  Stored in directory: /root/.cache/pip/wheels/31/ba/22/1a2d952a9ce8aa86e42fda41e2c87fdaf20e238c88bf8df013\n",
            "Successfully built stringcase\n",
            "Installing collected packages: stringcase, greek-accentuation, boltons, typer, smmap, smart-open, rapidfuzz, nvidia-nvtx-cu12, nvidia-nvjitlink-cu12, nvidia-nccl-cu12, nvidia-curand-cu12, nvidia-cufft-cu12, nvidia-cuda-runtime-cu12, nvidia-cuda-nvrtc-cu12, nvidia-cuda-cupti-cu12, nvidia-cublas-cu12, emoji, cloudpathlib, nvidia-cusparse-cu12, nvidia-cudnn-cu12, gitdb, nvidia-cusolver-cu12, gitpython, weasel, stanza, spacy, cltk\n",
            "  Attempting uninstall: typer\n",
            "    Found existing installation: typer 0.12.3\n",
            "    Uninstalling typer-0.12.3:\n",
            "      Successfully uninstalled typer-0.12.3\n",
            "  Attempting uninstall: smart-open\n",
            "    Found existing installation: smart-open 7.0.4\n",
            "    Uninstalling smart-open-7.0.4:\n",
            "      Successfully uninstalled smart-open-7.0.4\n",
            "  Attempting uninstall: cloudpathlib\n",
            "    Found existing installation: cloudpathlib 0.18.1\n",
            "    Uninstalling cloudpathlib-0.18.1:\n",
            "      Successfully uninstalled cloudpathlib-0.18.1\n",
            "  Attempting uninstall: weasel\n",
            "    Found existing installation: weasel 0.4.1\n",
            "    Uninstalling weasel-0.4.1:\n",
            "      Successfully uninstalled weasel-0.4.1\n",
            "  Attempting uninstall: spacy\n",
            "    Found existing installation: spacy 3.7.5\n",
            "    Uninstalling spacy-3.7.5:\n",
            "      Successfully uninstalled spacy-3.7.5\n",
            "Successfully installed boltons-21.0.0 cloudpathlib-0.16.0 cltk-1.3.0 emoji-2.12.1 gitdb-4.0.11 gitpython-3.1.43 greek-accentuation-1.2.0 nvidia-cublas-cu12-12.1.3.1 nvidia-cuda-cupti-cu12-12.1.105 nvidia-cuda-nvrtc-cu12-12.1.105 nvidia-cuda-runtime-cu12-12.1.105 nvidia-cudnn-cu12-8.9.2.26 nvidia-cufft-cu12-11.0.2.54 nvidia-curand-cu12-10.3.2.106 nvidia-cusolver-cu12-11.4.5.107 nvidia-cusparse-cu12-12.1.0.106 nvidia-nccl-cu12-2.20.5 nvidia-nvjitlink-cu12-12.5.40 nvidia-nvtx-cu12-12.1.105 rapidfuzz-3.9.3 smart-open-6.4.0 smmap-5.0.1 spacy-3.7.4 stanza-1.8.2 stringcase-1.2.0 typer-0.9.4 weasel-0.3.4\n",
            "Requirement already satisfied: spacy in /usr/local/lib/python3.10/dist-packages (3.7.4)\n",
            "Requirement already satisfied: spacy-legacy<3.1.0,>=3.0.11 in /usr/local/lib/python3.10/dist-packages (from spacy) (3.0.12)\n",
            "Requirement already satisfied: spacy-loggers<2.0.0,>=1.0.0 in /usr/local/lib/python3.10/dist-packages (from spacy) (1.0.5)\n",
            "Requirement already satisfied: murmurhash<1.1.0,>=0.28.0 in /usr/local/lib/python3.10/dist-packages (from spacy) (1.0.10)\n",
            "Requirement already satisfied: cymem<2.1.0,>=2.0.2 in /usr/local/lib/python3.10/dist-packages (from spacy) (2.0.8)\n",
            "Requirement already satisfied: preshed<3.1.0,>=3.0.2 in /usr/local/lib/python3.10/dist-packages (from spacy) (3.0.9)\n",
            "Requirement already satisfied: thinc<8.3.0,>=8.2.2 in /usr/local/lib/python3.10/dist-packages (from spacy) (8.2.4)\n",
            "Requirement already satisfied: wasabi<1.2.0,>=0.9.1 in /usr/local/lib/python3.10/dist-packages (from spacy) (1.1.3)\n",
            "Requirement already satisfied: srsly<3.0.0,>=2.4.3 in /usr/local/lib/python3.10/dist-packages (from spacy) (2.4.8)\n",
            "Requirement already satisfied: catalogue<2.1.0,>=2.0.6 in /usr/local/lib/python3.10/dist-packages (from spacy) (2.0.10)\n",
            "Requirement already satisfied: weasel<0.4.0,>=0.1.0 in /usr/local/lib/python3.10/dist-packages (from spacy) (0.3.4)\n",
            "Requirement already satisfied: typer<0.10.0,>=0.3.0 in /usr/local/lib/python3.10/dist-packages (from spacy) (0.9.4)\n",
            "Requirement already satisfied: smart-open<7.0.0,>=5.2.1 in /usr/local/lib/python3.10/dist-packages (from spacy) (6.4.0)\n",
            "Requirement already satisfied: tqdm<5.0.0,>=4.38.0 in /usr/local/lib/python3.10/dist-packages (from spacy) (4.66.4)\n",
            "Requirement already satisfied: requests<3.0.0,>=2.13.0 in /usr/local/lib/python3.10/dist-packages (from spacy) (2.31.0)\n",
            "Requirement already satisfied: pydantic!=1.8,!=1.8.1,<3.0.0,>=1.7.4 in /usr/local/lib/python3.10/dist-packages (from spacy) (2.7.3)\n",
            "Requirement already satisfied: jinja2 in /usr/local/lib/python3.10/dist-packages (from spacy) (3.1.4)\n",
            "Requirement already satisfied: setuptools in /usr/local/lib/python3.10/dist-packages (from spacy) (67.7.2)\n",
            "Requirement already satisfied: packaging>=20.0 in /usr/local/lib/python3.10/dist-packages (from spacy) (24.1)\n",
            "Requirement already satisfied: langcodes<4.0.0,>=3.2.0 in /usr/local/lib/python3.10/dist-packages (from spacy) (3.4.0)\n",
            "Requirement already satisfied: numpy>=1.19.0 in /usr/local/lib/python3.10/dist-packages (from spacy) (1.25.2)\n",
            "Requirement already satisfied: language-data>=1.2 in /usr/local/lib/python3.10/dist-packages (from langcodes<4.0.0,>=3.2.0->spacy) (1.2.0)\n",
            "Requirement already satisfied: annotated-types>=0.4.0 in /usr/local/lib/python3.10/dist-packages (from pydantic!=1.8,!=1.8.1,<3.0.0,>=1.7.4->spacy) (0.7.0)\n",
            "Requirement already satisfied: pydantic-core==2.18.4 in /usr/local/lib/python3.10/dist-packages (from pydantic!=1.8,!=1.8.1,<3.0.0,>=1.7.4->spacy) (2.18.4)\n",
            "Requirement already satisfied: typing-extensions>=4.6.1 in /usr/local/lib/python3.10/dist-packages (from pydantic!=1.8,!=1.8.1,<3.0.0,>=1.7.4->spacy) (4.12.2)\n",
            "Requirement already satisfied: charset-normalizer<4,>=2 in /usr/local/lib/python3.10/dist-packages (from requests<3.0.0,>=2.13.0->spacy) (3.3.2)\n",
            "Requirement already satisfied: idna<4,>=2.5 in /usr/local/lib/python3.10/dist-packages (from requests<3.0.0,>=2.13.0->spacy) (3.7)\n",
            "Requirement already satisfied: urllib3<3,>=1.21.1 in /usr/local/lib/python3.10/dist-packages (from requests<3.0.0,>=2.13.0->spacy) (2.0.7)\n",
            "Requirement already satisfied: certifi>=2017.4.17 in /usr/local/lib/python3.10/dist-packages (from requests<3.0.0,>=2.13.0->spacy) (2024.6.2)\n",
            "Requirement already satisfied: blis<0.8.0,>=0.7.8 in /usr/local/lib/python3.10/dist-packages (from thinc<8.3.0,>=8.2.2->spacy) (0.7.11)\n",
            "Requirement already satisfied: confection<1.0.0,>=0.0.1 in /usr/local/lib/python3.10/dist-packages (from thinc<8.3.0,>=8.2.2->spacy) (0.1.5)\n",
            "Requirement already satisfied: click<9.0.0,>=7.1.1 in /usr/local/lib/python3.10/dist-packages (from typer<0.10.0,>=0.3.0->spacy) (8.1.7)\n",
            "Requirement already satisfied: cloudpathlib<0.17.0,>=0.7.0 in /usr/local/lib/python3.10/dist-packages (from weasel<0.4.0,>=0.1.0->spacy) (0.16.0)\n",
            "Requirement already satisfied: MarkupSafe>=2.0 in /usr/local/lib/python3.10/dist-packages (from jinja2->spacy) (2.1.5)\n",
            "Requirement already satisfied: marisa-trie>=0.7.7 in /usr/local/lib/python3.10/dist-packages (from language-data>=1.2->langcodes<4.0.0,>=3.2.0->spacy) (1.2.0)\n",
            "\u001b[38;5;3m⚠ As of spaCy v3.0, shortcuts like 'de' are deprecated. Please use the\n",
            "full pipeline package name 'de_core_news_sm' instead.\u001b[0m\n",
            "Collecting de-core-news-sm==3.7.0\n",
            "  Downloading https://github.com/explosion/spacy-models/releases/download/de_core_news_sm-3.7.0/de_core_news_sm-3.7.0-py3-none-any.whl (14.6 MB)\n",
            "\u001b[2K     \u001b[90m━━━━━━━━━━━━━━━━━━━━━━━━━━━━━━━━━━━━━━━━\u001b[0m \u001b[32m14.6/14.6 MB\u001b[0m \u001b[31m23.9 MB/s\u001b[0m eta \u001b[36m0:00:00\u001b[0m\n",
            "\u001b[?25hRequirement already satisfied: spacy<3.8.0,>=3.7.0 in /usr/local/lib/python3.10/dist-packages (from de-core-news-sm==3.7.0) (3.7.4)\n",
            "Requirement already satisfied: spacy-legacy<3.1.0,>=3.0.11 in /usr/local/lib/python3.10/dist-packages (from spacy<3.8.0,>=3.7.0->de-core-news-sm==3.7.0) (3.0.12)\n",
            "Requirement already satisfied: spacy-loggers<2.0.0,>=1.0.0 in /usr/local/lib/python3.10/dist-packages (from spacy<3.8.0,>=3.7.0->de-core-news-sm==3.7.0) (1.0.5)\n",
            "Requirement already satisfied: murmurhash<1.1.0,>=0.28.0 in /usr/local/lib/python3.10/dist-packages (from spacy<3.8.0,>=3.7.0->de-core-news-sm==3.7.0) (1.0.10)\n",
            "Requirement already satisfied: cymem<2.1.0,>=2.0.2 in /usr/local/lib/python3.10/dist-packages (from spacy<3.8.0,>=3.7.0->de-core-news-sm==3.7.0) (2.0.8)\n",
            "Requirement already satisfied: preshed<3.1.0,>=3.0.2 in /usr/local/lib/python3.10/dist-packages (from spacy<3.8.0,>=3.7.0->de-core-news-sm==3.7.0) (3.0.9)\n",
            "Requirement already satisfied: thinc<8.3.0,>=8.2.2 in /usr/local/lib/python3.10/dist-packages (from spacy<3.8.0,>=3.7.0->de-core-news-sm==3.7.0) (8.2.4)\n",
            "Requirement already satisfied: wasabi<1.2.0,>=0.9.1 in /usr/local/lib/python3.10/dist-packages (from spacy<3.8.0,>=3.7.0->de-core-news-sm==3.7.0) (1.1.3)\n",
            "Requirement already satisfied: srsly<3.0.0,>=2.4.3 in /usr/local/lib/python3.10/dist-packages (from spacy<3.8.0,>=3.7.0->de-core-news-sm==3.7.0) (2.4.8)\n",
            "Requirement already satisfied: catalogue<2.1.0,>=2.0.6 in /usr/local/lib/python3.10/dist-packages (from spacy<3.8.0,>=3.7.0->de-core-news-sm==3.7.0) (2.0.10)\n",
            "Requirement already satisfied: weasel<0.4.0,>=0.1.0 in /usr/local/lib/python3.10/dist-packages (from spacy<3.8.0,>=3.7.0->de-core-news-sm==3.7.0) (0.3.4)\n",
            "Requirement already satisfied: typer<0.10.0,>=0.3.0 in /usr/local/lib/python3.10/dist-packages (from spacy<3.8.0,>=3.7.0->de-core-news-sm==3.7.0) (0.9.4)\n",
            "Requirement already satisfied: smart-open<7.0.0,>=5.2.1 in /usr/local/lib/python3.10/dist-packages (from spacy<3.8.0,>=3.7.0->de-core-news-sm==3.7.0) (6.4.0)\n",
            "Requirement already satisfied: tqdm<5.0.0,>=4.38.0 in /usr/local/lib/python3.10/dist-packages (from spacy<3.8.0,>=3.7.0->de-core-news-sm==3.7.0) (4.66.4)\n",
            "Requirement already satisfied: requests<3.0.0,>=2.13.0 in /usr/local/lib/python3.10/dist-packages (from spacy<3.8.0,>=3.7.0->de-core-news-sm==3.7.0) (2.31.0)\n",
            "Requirement already satisfied: pydantic!=1.8,!=1.8.1,<3.0.0,>=1.7.4 in /usr/local/lib/python3.10/dist-packages (from spacy<3.8.0,>=3.7.0->de-core-news-sm==3.7.0) (2.7.3)\n",
            "Requirement already satisfied: jinja2 in /usr/local/lib/python3.10/dist-packages (from spacy<3.8.0,>=3.7.0->de-core-news-sm==3.7.0) (3.1.4)\n",
            "Requirement already satisfied: setuptools in /usr/local/lib/python3.10/dist-packages (from spacy<3.8.0,>=3.7.0->de-core-news-sm==3.7.0) (67.7.2)\n",
            "Requirement already satisfied: packaging>=20.0 in /usr/local/lib/python3.10/dist-packages (from spacy<3.8.0,>=3.7.0->de-core-news-sm==3.7.0) (24.1)\n",
            "Requirement already satisfied: langcodes<4.0.0,>=3.2.0 in /usr/local/lib/python3.10/dist-packages (from spacy<3.8.0,>=3.7.0->de-core-news-sm==3.7.0) (3.4.0)\n",
            "Requirement already satisfied: numpy>=1.19.0 in /usr/local/lib/python3.10/dist-packages (from spacy<3.8.0,>=3.7.0->de-core-news-sm==3.7.0) (1.25.2)\n",
            "Requirement already satisfied: language-data>=1.2 in /usr/local/lib/python3.10/dist-packages (from langcodes<4.0.0,>=3.2.0->spacy<3.8.0,>=3.7.0->de-core-news-sm==3.7.0) (1.2.0)\n",
            "Requirement already satisfied: annotated-types>=0.4.0 in /usr/local/lib/python3.10/dist-packages (from pydantic!=1.8,!=1.8.1,<3.0.0,>=1.7.4->spacy<3.8.0,>=3.7.0->de-core-news-sm==3.7.0) (0.7.0)\n",
            "Requirement already satisfied: pydantic-core==2.18.4 in /usr/local/lib/python3.10/dist-packages (from pydantic!=1.8,!=1.8.1,<3.0.0,>=1.7.4->spacy<3.8.0,>=3.7.0->de-core-news-sm==3.7.0) (2.18.4)\n",
            "Requirement already satisfied: typing-extensions>=4.6.1 in /usr/local/lib/python3.10/dist-packages (from pydantic!=1.8,!=1.8.1,<3.0.0,>=1.7.4->spacy<3.8.0,>=3.7.0->de-core-news-sm==3.7.0) (4.12.2)\n",
            "Requirement already satisfied: charset-normalizer<4,>=2 in /usr/local/lib/python3.10/dist-packages (from requests<3.0.0,>=2.13.0->spacy<3.8.0,>=3.7.0->de-core-news-sm==3.7.0) (3.3.2)\n",
            "Requirement already satisfied: idna<4,>=2.5 in /usr/local/lib/python3.10/dist-packages (from requests<3.0.0,>=2.13.0->spacy<3.8.0,>=3.7.0->de-core-news-sm==3.7.0) (3.7)\n",
            "Requirement already satisfied: urllib3<3,>=1.21.1 in /usr/local/lib/python3.10/dist-packages (from requests<3.0.0,>=2.13.0->spacy<3.8.0,>=3.7.0->de-core-news-sm==3.7.0) (2.0.7)\n",
            "Requirement already satisfied: certifi>=2017.4.17 in /usr/local/lib/python3.10/dist-packages (from requests<3.0.0,>=2.13.0->spacy<3.8.0,>=3.7.0->de-core-news-sm==3.7.0) (2024.6.2)\n",
            "Requirement already satisfied: blis<0.8.0,>=0.7.8 in /usr/local/lib/python3.10/dist-packages (from thinc<8.3.0,>=8.2.2->spacy<3.8.0,>=3.7.0->de-core-news-sm==3.7.0) (0.7.11)\n",
            "Requirement already satisfied: confection<1.0.0,>=0.0.1 in /usr/local/lib/python3.10/dist-packages (from thinc<8.3.0,>=8.2.2->spacy<3.8.0,>=3.7.0->de-core-news-sm==3.7.0) (0.1.5)\n",
            "Requirement already satisfied: click<9.0.0,>=7.1.1 in /usr/local/lib/python3.10/dist-packages (from typer<0.10.0,>=0.3.0->spacy<3.8.0,>=3.7.0->de-core-news-sm==3.7.0) (8.1.7)\n",
            "Requirement already satisfied: cloudpathlib<0.17.0,>=0.7.0 in /usr/local/lib/python3.10/dist-packages (from weasel<0.4.0,>=0.1.0->spacy<3.8.0,>=3.7.0->de-core-news-sm==3.7.0) (0.16.0)\n",
            "Requirement already satisfied: MarkupSafe>=2.0 in /usr/local/lib/python3.10/dist-packages (from jinja2->spacy<3.8.0,>=3.7.0->de-core-news-sm==3.7.0) (2.1.5)\n",
            "Requirement already satisfied: marisa-trie>=0.7.7 in /usr/local/lib/python3.10/dist-packages (from language-data>=1.2->langcodes<4.0.0,>=3.2.0->spacy<3.8.0,>=3.7.0->de-core-news-sm==3.7.0) (1.2.0)\n",
            "Installing collected packages: de-core-news-sm\n",
            "Successfully installed de-core-news-sm-3.7.0\n",
            "\u001b[38;5;2m✔ Download and installation successful\u001b[0m\n",
            "You can now load the package via spacy.load('de_core_news_sm')\n",
            "\u001b[38;5;3m⚠ Restart to reload dependencies\u001b[0m\n",
            "If you are in a Jupyter or Colab notebook, you may need to restart Python in\n",
            "order to load all the package's dependencies. You can do this by selecting the\n",
            "'Restart kernel' or 'Restart runtime' option.\n"
          ]
        }
      ]
    },
    {
      "cell_type": "code",
      "execution_count": null,
      "metadata": {
        "id": "iHOGmVDp3tT6"
      },
      "outputs": [],
      "source": [
        "import string\n",
        "from os import path, sep\n",
        "from nltk.stem.snowball import GermanStemmer\n",
        "from cltk import NLP\n",
        "import spacy\n",
        "\n",
        "\n",
        "DRIVE_DIRECTORY = path.join(sep, \"content\", \"drive\", \"My Drive\")\n",
        "\n",
        "SUPPORTED_LANGUAGES = [\"German\", \"Latin\"]\n",
        "\n",
        "def count_words_from_file(text_file, thresh, language=None, use_stems=False):\n",
        "    file = path.join(DRIVE_DIRECTORY, text_file)\n",
        "    with open(file, \"r\", encoding='utf-8') as f:\n",
        "        text = f.read()\n",
        "    text = parse_text(text)\n",
        "    if use_stems:\n",
        "      text_arr = split_stems(text, language)\n",
        "    else:\n",
        "      text_arr = text.split()\n",
        "    counts = count_words(text_arr)\n",
        "    return count_above_thresh(counts, thresh)\n",
        "\n",
        "def parse_text(text):\n",
        "  text = text.translate(str.maketrans('', '', string.punctuation))\n",
        "  text = text.replace(\"\\n\", \"\")\n",
        "  text = text.replace(r\"\\u\", \"\")\n",
        "  text = text.replace(r\"\\x\", \"\")\n",
        "  text = text.lower()\n",
        "  text = text.translate(str.maketrans('', '', string.digits))\n",
        "  text = \" \".join(text.split())\n",
        "  return text\n",
        "\n",
        "def count_words(text_arr):\n",
        "    word_counts = {}\n",
        "    for word in text_arr:\n",
        "        if word == \"\":\n",
        "          continue\n",
        "        if word not in word_counts:\n",
        "            word_counts[word] = 1\n",
        "        else:\n",
        "            word_counts[word] += 1\n",
        "    return word_counts\n",
        "\n",
        "def count_above_thresh(word_counts, thresh):\n",
        "  ret = {}\n",
        "  for word in word_counts:\n",
        "    if word_counts[word] >= thresh:\n",
        "      ret[word] = word_counts[word]\n",
        "  return dict(sorted(ret.items())) # key=lambda i: i[0].lower()\n",
        "\n",
        "def split_stems(text, language):\n",
        "  stem_counts = {}\n",
        "  if language == \"German\" or language == \"german\":\n",
        "    german_nlp = spacy.load('de_core_news_sm')\n",
        "    doc = german_nlp(text)\n",
        "    #text_arr = text.split(' ')\n",
        "    stem_arr = [token.lemma_ for token in doc]\n",
        "  elif language == \"Latin\" or language == \"latin\":\n",
        "    cltk_nlp = NLP(language=\"lat\", suppress_banner=True)\n",
        "    cltk_nlp.pipeline.processes.pop(-1)\n",
        "    cltk_doc = cltk_nlp.analyze(text=text)\n",
        "    stem_arr = cltk_doc.lemmata\n",
        "  else:\n",
        "    raise Exception(f\"Please choose a supported language for using stems. These are {SUPPORTED_LANGUAGES}.\")\n",
        "  return stem_arr\n"
      ]
    },
    {
      "cell_type": "code",
      "source": [
        "from google.colab import drive\n",
        "drive.mount('/content/drive')"
      ],
      "metadata": {
        "colab": {
          "base_uri": "https://localhost:8080/"
        },
        "id": "40Yw5WS033Ih",
        "outputId": "963a9939-54b3-4e64-e72e-98f0b4fbc957"
      },
      "execution_count": null,
      "outputs": [
        {
          "output_type": "stream",
          "name": "stdout",
          "text": [
            "Mounted at /content/drive\n"
          ]
        }
      ]
    },
    {
      "cell_type": "code",
      "source": [
        "import csv\n",
        "import pandas as pd\n",
        "\n",
        "def export_to_excel(vocab_list, file_name):\n",
        "  file_name = path.join(DRIVE_DIRECTORY, file_name)\n",
        "  df = pd.DataFrame.from_dict(vocab_list, \"index\")\n",
        "  df.to_excel(f\"{file_name}.xlsx\")\n",
        "  print(\"success\")\n",
        "\n",
        "\n",
        "\n",
        "def export_to_txt(vocab_list, file_name):\n",
        "  file_name = path.join(DRIVE_DIRECTORY, f\"{file_name}.txt\")\n",
        "  with open(file_name, 'a') as output:\n",
        "    for key, value in vocab_list.items():\n",
        "        output.write('%s:%s\\n' % (key, value))\n",
        "  print(\"success\")"
      ],
      "metadata": {
        "id": "akoDr1L97VGM"
      },
      "execution_count": null,
      "outputs": []
    },
    {
      "cell_type": "markdown",
      "source": [
        "## Start here\n",
        "\n",
        "**vocab_list** = count_words_from_file(\"**filename**\", **count_threshold**)\n",
        "\n",
        "file must be in raw text format and in google drive\n",
        "\n",
        "you may be prompted to download files needed for NLP. type \"yes\" to download and ask Olivia if they look strange."
      ],
      "metadata": {
        "id": "MEYTdv-4_FuV"
      }
    },
    {
      "cell_type": "code",
      "source": [
        "  vocab_list = count_words_from_file(\"Immanuel Kant.txt\", 1, language=\"German\", use_stems=False)\n",
        "  print(vocab_list)\n",
        "  print(len(vocab_list))"
      ],
      "metadata": {
        "colab": {
          "base_uri": "https://localhost:8080/"
        },
        "id": "Eb-JaxOC3zPR",
        "outputId": "35fce4ed-db9e-4a8f-d3e5-2af8a0452b3f"
      },
      "execution_count": null,
      "outputs": [
        {
          "output_type": "stream",
          "name": "stdout",
          "text": [
            "{'aber': 12, 'abes': 1, 'abfall': 1, 'abgaben': 1, 'abgehalten': 1, 'abgeworfen': 1, 'abwürfe': 1, 'alle': 2, 'allein': 3, 'allem': 1, 'allen': 4, 'aller': 1, 'allerdings': 1, 'allgemeine': 1, 'als': 13, 'alsdann': 1, 'also': 3, 'alten': 1, 'am': 1, 'amt': 1, 'amte': 1, 'amts': 1, 'an': 2, 'anbefohlen': 1, 'andere': 1, 'anderen': 4, 'angenommen': 1, 'angesetzt': 1, 'angestellt': 1, 'angestellter': 1, 'angetroffen': 1, 'anheischig': 1, 'anmerkungen': 1, 'ansehung': 2, 'ansieht': 1, 'antworte': 1, 'anvertrauten': 1, 'art': 1, 'arzt': 1, 'auch': 6, 'aude': 1, 'auf': 4, 'auferlegten': 1, 'aufgewiegelt': 1, 'aufkläre': 1, 'aufklärung': 6, 'aufklärungaufklärung': 1, 'aufklärungfaulheit': 1, 'auflagen': 1, 'auftrag': 1, 'aufzuwerfen': 1, 'aus': 4, 'ausgang': 1, 'ausrichtet': 1, 'ausschreibungen': 1, 'außer': 2, 'bearbeitung': 1, 'bedienen': 5, 'bedient': 1, 'bedingung': 1, 'bedrückung': 1, 'befehls': 1, 'beförderlich': 1, 'bei': 1, 'beinahe': 2, 'beispiel': 1, 'bemühen': 1, 'bequem': 1, 'beruf': 1, 'berufs': 1, 'beschwerlich': 1, 'besonders': 1, 'besserer': 1, 'bestraft': 1, 'beurteilt': 1, 'beurteilung': 1, 'bewegung': 1, 'beweisgründe': 1, 'bezahlen': 1, 'bezahlt': 1, 'billigermaßen': 1, 'bleiben': 2, 'bloß': 2, 'brauche': 1, 'bringen': 1, 'buch': 1, 'bürger': 1, 'bürgerlichen': 1, 'bürgers': 1, 'da': 1, 'dadurch': 1, 'dafür': 1, 'dagegen': 1, 'daher': 2, 'danach': 1, 'darf': 3, 'darin': 4, 'darum': 1, 'darunter': 2, 'das': 13, 'davon': 1, 'dazu': 2, 'daß': 7, 'deines': 1, 'dem': 8, 'demungeachtet': 1, 'den': 11, 'denen': 3, 'denjenigen': 2, 'denken': 2, 'denkungsart': 1, 'denn': 6, 'dennoch': 3, 'der': 44, 'deren': 4, 'dergleichen': 1, 'derselbe': 1, 'derselben': 2, 'des': 11, 'despotismus': 1, 'dessen': 3, 'dich': 1, 'die': 24, 'dienenzu': 1, 'dienste': 1, 'dient': 1, 'diese': 7, 'dieser': 3, 'dieses': 3, 'dingen': 1, 'diät': 1, 'doch': 4, 'droht': 1, 'dumm': 1, 'durch': 6, 'durften': 1, 'eben': 2, 'ebenso': 1, 'ebensowohl': 1, 'eher': 1, 'eigene': 1, 'eigenem': 1, 'eigenen': 6, 'eigentlichen': 2, 'ein': 15, 'eine': 4, 'einem': 1, 'einen': 5, 'einer': 3, 'eines': 7, 'eingeschränkt': 1, 'eingesetzten': 1, 'einhelligkeit': 1, 'einige': 2, 'einigemal': 1, 'einigen': 1, 'einrichtung': 1, 'einschränkung': 2, 'einsperrten': 1, 'einzelnen': 1, 'einziger': 1, 'endlich': 1, 'enge': 1, 'entgegen': 1, 'entschließung': 1, 'er': 24, 'erfordert': 1, 'erlaubt': 1, 'es': 15, 'etwas': 2, 'exerziert': 1, 'fallen': 1, 'fehler': 1, 'fehlerhafte': 1, 'feigheit': 1, 'fern': 1, 'ferneren': 1, 'finanzrat': 1, 'finden': 2, 'formeln': 1, 'fortschritt': 1, 'frage': 1, 'frei': 3, 'freie': 1, 'freier': 1, 'freiheit': 6, 'freilich': 1, 'fremden': 1, 'fremder': 1, 'fußschellen': 1, 'fälle': 1, 'für': 7, 'gang': 1, 'ganz': 1, 'ganze': 1, 'ganzen': 2, 'gar': 1, 'gebracht': 1, 'gebrauch': 4, 'gebrauche': 1, 'gebrauchs': 1, 'gedanken': 2, 'gedankenlosen': 1, 'gefahr': 2, 'gefährlich': 1, 'gehen': 2, 'gehorchen': 2, 'gehorcht': 1, 'geist': 1, 'geistes': 1, 'geistliche': 2, 'geistlichen': 1, 'geistlicher': 1, 'gelangen': 1, 'gelegt': 1, 'gelehrten': 1, 'gelehrter': 5, 'geleistet': 1, 'gelungen': 1, 'gemacht': 1, 'gemeinde': 3, 'gemeinen': 3, 'gemeinhin': 1, 'genießt': 1, 'genommen': 1, 'geprüften': 1, 'gerichtet': 1, 'gerne': 1, 'geschlecht': 1, 'geschäft': 1, 'geschäfte': 1, 'geschäften': 1, 'geschäftträger': 1, 'geschöpfe': 1, 'gesprochen': 1, 'gewalt': 1, 'gewesen': 1, 'gewinnsüchtiger': 1, 'gewissen': 4, 'gewisser': 1, 'gewonnen': 1, 'gewordenen': 1, 'gewöhnt': 1, 'gibt': 1, 'glaubt': 1, 'glaubte': 1, 'gleichwohl': 1, 'glied': 2, 'glieder': 1, 'graben': 1, 'groß': 1, 'große': 1, 'großen': 2, 'großer': 1, 'größte': 1, 'gutdünken': 1, 'gängelwagen': 1, 'gütigst': 1, 'habe': 3, 'haben': 3, 'halte': 1, 'hand': 1, 'handelt': 1, 'hat': 5, 'haufens': 2, 'hausvieh': 1, 'heißen': 1, 'heraus': 1, 'herauszuarbeiten': 1, 'herr': 1, 'herrschsüchtiger': 1, 'hiebei': 1, 'hier': 2, 'hierbei': 1, 'hinausläuft': 1, 'hinderlich': 1, 'hindern': 1, 'häusliche': 1, 'höre': 1, 'ich': 8, 'ihm': 6, 'ihn': 1, 'ihnen': 3, 'ihr': 5, 'ihre': 1, 'ihres': 1, 'im': 5, 'immanuel': 1, 'immer': 2, 'immerwährenden': 1, 'in': 10, 'infolge': 1, 'inneren': 1, 'interesse': 1, 'ist': 30, 'ja': 5, 'jeden': 1, 'jederzeit': 1, 'jedes': 1, 'jemand': 1, 'jene': 1, 'jenem': 1, 'jenes': 1, 'joch': 2, 'kann': 8, 'kantbeantwortung': 1, 'katechismusschülern': 1, 'keinen': 1, 'kirche': 3, 'kirchenwesens': 1, 'kommen': 1, 'kriegesdienste': 1, 'können': 1, 'könnte': 2, 'künstliche': 1, 'langsam': 1, 'last': 1, 'laufen': 1, 'laut': 1, 'lehren': 1, 'lehrer': 1, 'lehrt': 2, 'leicht': 1, 'leiden': 1, 'leisten': 1, 'leitbande': 1, 'leitung': 3, 'lernen': 1, 'leserwelt': 1, 'letztere': 1, 'lieb': 1, 'liegt': 1, 'ließ': 1, 'läge': 1, 'längst': 1, 'läßt': 1, 'machen': 5, 'macht': 3, 'mag': 1, 'maiorennes': 1, 'man': 3, 'manchen': 1, 'mangel': 1, 'maschine': 1, 'mechanischen': 1, 'mechanism': 1, 'menschen': 6, 'mich': 5, 'mit': 2, 'mithin': 2, 'mitzuteilen': 1, 'mißbrauchs': 1, 'mut': 1, 'mutes': 1, 'muß': 3, 'möglich': 1, 'mündigkeit': 1, 'müssen': 1, 'müßte': 1, 'nach': 3, 'nachdem': 3, 'nachher': 1, 'namen': 1, 'natur': 2, 'naturaliter': 1, 'naturgaben': 1, 'nenne': 1, 'neue': 1, 'nicht': 20, 'nichts': 3, 'niederlegen': 1, 'niemals': 2, 'noch': 1, 'notwendig': 1, 'nun': 4, 'nur': 8, 'nutzen': 1, 'nämlich': 2, 'nötig': 1, 'nützlichkeit': 1, 'oberaufsicht': 1, 'oberen': 1, 'obwohl': 1, 'oder': 8, 'offizier': 2, 'ohne': 4, 'passiv': 1, 'passives': 1, 'person': 1, 'persönlichem': 1, 'pflanzen': 1, 'pflicht': 1, 'posten': 1, 'praktischen': 1, 'priester': 1, 'privatgebrauch': 3, 'publikum': 8, 'qualität': 1, 'reform': 1, 'regierung': 1, 'religion': 1, 'religions': 1, 'revolution': 1, 'rufen': 1, 'ruhigen': 1, 'rächen': 1, 'räsonnieren': 2, 'räsonniert': 5, 'sagen': 1, 'sagt': 2, 'sapere': 1, 'satzungen': 2, 'schmalsten': 1, 'schon': 2, 'schreckt': 1, 'schriften': 2, 'schritt': 2, 'schwer': 1, 'schädlich': 1, 'schätzung': 1, 'schöne': 1, 'schüchtern': 1, 'seelsorger': 1, 'sehr': 3, 'sein': 7, 'seine': 3, 'seinem': 1, 'seinen': 3, 'seiner': 14, 'seines': 3, 'seiten': 1, 'selbst': 10, 'selbstdenkende': 1, 'selbstverschuldet': 1, 'sich': 18, 'sicheren': 1, 'sie': 15, 'sind': 5, 'skandal': 1, 'so': 12, 'sogar': 5, 'solcher': 2, 'sollen': 2, 'sonderlich': 1, 'sondern': 8, 'sorgen': 1, 'sorgfältig': 2, 'sprechen': 1, 'spricht': 1, 'sprung': 1, 'stellt': 1, 'stücken': 1, 'symbol': 2, 'tadel': 1, 'teil': 3, 'teile': 1, 'tun': 2, 'tundaß': 1, 'um': 2, 'unausbleiblich': 1, 'und': 22, 'uneingeschränkte': 1, 'unfähig': 2, 'ungerechtigkeit': 1, 'ungereimtheit': 1, 'ungereimtheiten': 1, 'unmöglich': 1, 'unmündig': 3, 'unmündigkeit': 7, 'unschicklichkeit': 1, 'unschädlichste': 1, 'unsere': 1, 'unsicheren': 1, 'unter': 5, 'unterschreiben': 1, 'unvermögen': 1, 'urheber': 1, 'ursache': 1, 'ursachen': 1, 'usw': 1, 'veranlassen': 1, 'verborgen': 1, 'verbreiten': 1, 'verbunden': 1, 'verderblich': 1, 'verdrießliche': 1, 'verewigung': 1, 'verhalten': 1, 'verhüteten': 1, 'vermittels': 1, 'vernunft': 7, 'vernünfteln': 1, 'vernünftigen': 2, 'versammlung': 1, 'verschuldeten': 1, 'verstand': 1, 'verstande': 1, 'verstandes': 4, 'verstehe': 1, 'versuch': 1, 'versuchen': 2, 'verwalten': 1, 'verwehrt': 1, 'viel': 1, 'vielleicht': 1, 'vielmehr': 1, 'volks': 1, 'volle': 1, 'voller': 1, 'von': 15, 'vor': 4, 'vorgänger': 1, 'vormünder': 3, 'vormündern': 2, 'vorschläge': 1, 'vorschrift': 1, 'vortrag': 2, 'vorurteile': 2, 'vorwitziger': 1, 'vorzulegen': 1, 'vorzutragen': 1, 'wagen': 1, 'wahlspruch': 1, 'wahre': 1, 'wahrheit': 1, 'warum': 2, 'was': 4, 'wegen': 1, 'weigern': 1, 'weil': 6, 'weitem': 1, 'welche': 3, 'welches': 1, 'welt': 2, 'weltbürgergesellschaft': 1, 'wendet': 1, 'wenige': 1, 'wenigstens': 2, 'wenn': 8, 'wer': 1, 'werden': 9, 'werkzeuge': 1, 'werts': 1, 'wesens': 3, 'wickeln': 1, 'wider': 1, 'widersetzlichkeiten': 1, 'widersprechendes': 1, 'wieder': 1, 'wird': 6, 'wirklich': 1, 'wohl': 3, 'wohlmeinenden': 1, 'wollt': 2, 'wollte': 1, 'worden': 3, 'worüber': 1, 'würde': 4, 'würden': 1, 'zeigen': 1, 'zeitlebens': 1, 'zerstörung': 1, 'zieht': 1, 'zu': 30, 'zuerst': 1, 'zugleich': 1, 'zuletzt': 1, 'zum': 3, 'zur': 5, 'zustande': 2, 'zuvor': 1, 'zwar': 2, 'zwecke': 1, 'zwecken': 1, 'zweckmäßigkeit': 1, 'zwingt': 1, 'äußert': 1, 'öffentlich': 1, 'öffentliche': 1, 'öffentlichen': 4, 'öfters': 1, 'über': 5, 'überall': 1, 'übernehmen': 1, 'überzeugung': 1, '–': 1}\n",
            "586\n"
          ]
        }
      ]
    },
    {
      "cell_type": "markdown",
      "source": [
        "export_to_**filetype**(**vocab_list**, \"**filename** (no extension)\")\n",
        "\n",
        "will be stored in Google Drive"
      ],
      "metadata": {
        "id": "Xxr8Sm39-ic0"
      }
    },
    {
      "cell_type": "code",
      "source": [
        "export_to_txt(vocab_list, \"Kant_Frage_vocab_list\")"
      ],
      "metadata": {
        "colab": {
          "base_uri": "https://localhost:8080/"
        },
        "id": "vWJCqETG70ZC",
        "outputId": "ec2eb0ab-e9f0-43cf-eb01-063a68350d54"
      },
      "execution_count": null,
      "outputs": [
        {
          "output_type": "stream",
          "name": "stdout",
          "text": [
            "success\n"
          ]
        }
      ]
    },
    {
      "cell_type": "code",
      "source": [
        "export_to_excel(vocab_list, \"Kant_Frage_vocab_list\")"
      ],
      "metadata": {
        "colab": {
          "base_uri": "https://localhost:8080/"
        },
        "id": "1ZIpVtVm8EpT",
        "outputId": "0af4cab5-da68-4f55-854f-0bc0c8fcbc18"
      },
      "execution_count": null,
      "outputs": [
        {
          "output_type": "stream",
          "name": "stdout",
          "text": [
            "success\n"
          ]
        }
      ]
    }
  ]
}